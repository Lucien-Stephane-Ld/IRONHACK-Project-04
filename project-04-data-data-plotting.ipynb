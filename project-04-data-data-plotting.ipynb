{
 "cells": [
  {
   "cell_type": "code",
   "execution_count": 2,
   "metadata": {},
   "outputs": [],
   "source": [
    "import pandas as pd\n",
    "import matplotlib.pyplot as plt\n",
    "import numpy as np\n",
    "import math"
   ]
  },
  {
   "attachments": {},
   "cell_type": "markdown",
   "metadata": {},
   "source": []
  },
  {
   "cell_type": "code",
   "execution_count": 4,
   "metadata": {},
   "outputs": [
    {
     "data": {
      "text/html": [
       "<div>\n",
       "<style scoped>\n",
       "    .dataframe tbody tr th:only-of-type {\n",
       "        vertical-align: middle;\n",
       "    }\n",
       "\n",
       "    .dataframe tbody tr th {\n",
       "        vertical-align: top;\n",
       "    }\n",
       "\n",
       "    .dataframe thead th {\n",
       "        text-align: right;\n",
       "    }\n",
       "</style>\n",
       "<table border=\"1\" class=\"dataframe\">\n",
       "  <thead>\n",
       "    <tr style=\"text-align: right;\">\n",
       "      <th></th>\n",
       "      <th>sessionId</th>\n",
       "      <th>kwhTotal</th>\n",
       "      <th>dollars</th>\n",
       "      <th>created</th>\n",
       "      <th>ended</th>\n",
       "      <th>startTime</th>\n",
       "      <th>endTime</th>\n",
       "      <th>chargeTimeHrs</th>\n",
       "      <th>weekday</th>\n",
       "      <th>platform</th>\n",
       "      <th>...</th>\n",
       "      <th>managerVehicle</th>\n",
       "      <th>facilityType</th>\n",
       "      <th>Mon</th>\n",
       "      <th>Tues</th>\n",
       "      <th>Wed</th>\n",
       "      <th>Thurs</th>\n",
       "      <th>Fri</th>\n",
       "      <th>Sat</th>\n",
       "      <th>Sun</th>\n",
       "      <th>reportedZip</th>\n",
       "    </tr>\n",
       "  </thead>\n",
       "  <tbody>\n",
       "    <tr>\n",
       "      <th>0</th>\n",
       "      <td>1366563</td>\n",
       "      <td>7.78</td>\n",
       "      <td>0.00</td>\n",
       "      <td>0014-11-18 15:40:26</td>\n",
       "      <td>0014-11-18 17:11:04</td>\n",
       "      <td>15</td>\n",
       "      <td>17</td>\n",
       "      <td>1.510556</td>\n",
       "      <td>Tue</td>\n",
       "      <td>android</td>\n",
       "      <td>...</td>\n",
       "      <td>0</td>\n",
       "      <td>3</td>\n",
       "      <td>0</td>\n",
       "      <td>1</td>\n",
       "      <td>0</td>\n",
       "      <td>0</td>\n",
       "      <td>0</td>\n",
       "      <td>0</td>\n",
       "      <td>0</td>\n",
       "      <td>0</td>\n",
       "    </tr>\n",
       "    <tr>\n",
       "      <th>1</th>\n",
       "      <td>3075723</td>\n",
       "      <td>9.74</td>\n",
       "      <td>0.00</td>\n",
       "      <td>0014-11-19 17:40:26</td>\n",
       "      <td>0014-11-19 19:51:04</td>\n",
       "      <td>17</td>\n",
       "      <td>19</td>\n",
       "      <td>2.177222</td>\n",
       "      <td>Wed</td>\n",
       "      <td>android</td>\n",
       "      <td>...</td>\n",
       "      <td>0</td>\n",
       "      <td>3</td>\n",
       "      <td>0</td>\n",
       "      <td>0</td>\n",
       "      <td>1</td>\n",
       "      <td>0</td>\n",
       "      <td>0</td>\n",
       "      <td>0</td>\n",
       "      <td>0</td>\n",
       "      <td>0</td>\n",
       "    </tr>\n",
       "    <tr>\n",
       "      <th>2</th>\n",
       "      <td>4228788</td>\n",
       "      <td>6.76</td>\n",
       "      <td>0.58</td>\n",
       "      <td>0014-11-21 12:05:46</td>\n",
       "      <td>0014-11-21 16:46:04</td>\n",
       "      <td>12</td>\n",
       "      <td>16</td>\n",
       "      <td>4.671667</td>\n",
       "      <td>Fri</td>\n",
       "      <td>android</td>\n",
       "      <td>...</td>\n",
       "      <td>0</td>\n",
       "      <td>3</td>\n",
       "      <td>0</td>\n",
       "      <td>0</td>\n",
       "      <td>0</td>\n",
       "      <td>0</td>\n",
       "      <td>1</td>\n",
       "      <td>0</td>\n",
       "      <td>0</td>\n",
       "      <td>0</td>\n",
       "    </tr>\n",
       "    <tr>\n",
       "      <th>3</th>\n",
       "      <td>3173284</td>\n",
       "      <td>6.17</td>\n",
       "      <td>0.00</td>\n",
       "      <td>0014-12-03 19:16:12</td>\n",
       "      <td>0014-12-03 21:02:18</td>\n",
       "      <td>19</td>\n",
       "      <td>21</td>\n",
       "      <td>1.768333</td>\n",
       "      <td>Wed</td>\n",
       "      <td>android</td>\n",
       "      <td>...</td>\n",
       "      <td>0</td>\n",
       "      <td>3</td>\n",
       "      <td>0</td>\n",
       "      <td>0</td>\n",
       "      <td>1</td>\n",
       "      <td>0</td>\n",
       "      <td>0</td>\n",
       "      <td>0</td>\n",
       "      <td>0</td>\n",
       "      <td>0</td>\n",
       "    </tr>\n",
       "    <tr>\n",
       "      <th>4</th>\n",
       "      <td>3266500</td>\n",
       "      <td>0.93</td>\n",
       "      <td>0.00</td>\n",
       "      <td>0014-12-11 20:56:11</td>\n",
       "      <td>0014-12-11 21:14:06</td>\n",
       "      <td>20</td>\n",
       "      <td>21</td>\n",
       "      <td>0.298611</td>\n",
       "      <td>Thu</td>\n",
       "      <td>android</td>\n",
       "      <td>...</td>\n",
       "      <td>0</td>\n",
       "      <td>3</td>\n",
       "      <td>0</td>\n",
       "      <td>0</td>\n",
       "      <td>0</td>\n",
       "      <td>1</td>\n",
       "      <td>0</td>\n",
       "      <td>0</td>\n",
       "      <td>0</td>\n",
       "      <td>0</td>\n",
       "    </tr>\n",
       "  </tbody>\n",
       "</table>\n",
       "<p>5 rows × 24 columns</p>\n",
       "</div>"
      ],
      "text/plain": [
       "   sessionId  kwhTotal  dollars              created                ended   \n",
       "0    1366563      7.78     0.00  0014-11-18 15:40:26  0014-11-18 17:11:04  \\\n",
       "1    3075723      9.74     0.00  0014-11-19 17:40:26  0014-11-19 19:51:04   \n",
       "2    4228788      6.76     0.58  0014-11-21 12:05:46  0014-11-21 16:46:04   \n",
       "3    3173284      6.17     0.00  0014-12-03 19:16:12  0014-12-03 21:02:18   \n",
       "4    3266500      0.93     0.00  0014-12-11 20:56:11  0014-12-11 21:14:06   \n",
       "\n",
       "   startTime  endTime  chargeTimeHrs weekday platform  ...  managerVehicle   \n",
       "0         15       17       1.510556     Tue  android  ...               0  \\\n",
       "1         17       19       2.177222     Wed  android  ...               0   \n",
       "2         12       16       4.671667     Fri  android  ...               0   \n",
       "3         19       21       1.768333     Wed  android  ...               0   \n",
       "4         20       21       0.298611     Thu  android  ...               0   \n",
       "\n",
       "   facilityType  Mon  Tues  Wed  Thurs  Fri  Sat  Sun  reportedZip  \n",
       "0             3    0     1    0      0    0    0    0            0  \n",
       "1             3    0     0    1      0    0    0    0            0  \n",
       "2             3    0     0    0      0    1    0    0            0  \n",
       "3             3    0     0    1      0    0    0    0            0  \n",
       "4             3    0     0    0      1    0    0    0            0  \n",
       "\n",
       "[5 rows x 24 columns]"
      ]
     },
     "execution_count": 4,
     "metadata": {},
     "output_type": "execute_result"
    }
   ],
   "source": [
    "df = pd.read_csv('data_electric_car_charge.csv')\n",
    "df.head()"
   ]
  },
  {
   "attachments": {},
   "cell_type": "markdown",
   "metadata": {},
   "source": [
    "### DATA CLEANING\n",
    "\n",
    "* Drop 'mon'-'sun' columns\n",
    "* Rename 'weekdays' to 'day'  \n",
    "____\n",
    "  \n",
    "* Drop 'created' & 'ended'\n",
    "* Round values of 'chargeTimeHrs' to two decimals\n",
    "* Rename 'chargeTimeHrs' to 'Charge Time'  \n",
    "____\n",
    "  \n",
    "* Drop all null/zeros from 'dollars' to make average of 'dollars' aka:charge cost\n",
    "* Rename 'dollars' column to 'cost ($)'  \n",
    "____\n",
    "\n",
    "* Rename 'facilityType' values to corresponding facility type\n",
    "* Create new column 'Facility Type' with facility names + 'Facility Code' with the numerical code\n"
   ]
  },
  {
   "cell_type": "code",
   "execution_count": 9,
   "metadata": {},
   "outputs": [
    {
     "data": {
      "text/plain": [
       "facilityType\n",
       "3    1832\n",
       "2     862\n",
       "1     593\n",
       "4     108\n",
       "Name: count, dtype: int64"
      ]
     },
     "execution_count": 9,
     "metadata": {},
     "output_type": "execute_result"
    }
   ],
   "source": [
    "df.value_counts(\"facilityType\")"
   ]
  },
  {
   "cell_type": "code",
   "execution_count": null,
   "metadata": {},
   "outputs": [],
   "source": [
    "import pandas as pd\n",
    "\n",
    "labels = ['R&D','Office','Manufacturing','Others']\n",
    "values = [1832, 862, 593, 108]"
   ]
  },
  {
   "cell_type": "code",
   "execution_count": 19,
   "metadata": {},
   "outputs": [
    {
     "data": {
      "text/html": [
       "<div>\n",
       "<style scoped>\n",
       "    .dataframe tbody tr th:only-of-type {\n",
       "        vertical-align: middle;\n",
       "    }\n",
       "\n",
       "    .dataframe tbody tr th {\n",
       "        vertical-align: top;\n",
       "    }\n",
       "\n",
       "    .dataframe thead th {\n",
       "        text-align: right;\n",
       "    }\n",
       "</style>\n",
       "<table border=\"1\" class=\"dataframe\">\n",
       "  <thead>\n",
       "    <tr style=\"text-align: right;\">\n",
       "      <th></th>\n",
       "      <th>Facility Type</th>\n",
       "      <th>Frequentation</th>\n",
       "      <th>Facility Code</th>\n",
       "    </tr>\n",
       "  </thead>\n",
       "  <tbody>\n",
       "    <tr>\n",
       "      <th>0</th>\n",
       "      <td>Manufacturing</td>\n",
       "      <td>593</td>\n",
       "      <td>1</td>\n",
       "    </tr>\n",
       "    <tr>\n",
       "      <th>1</th>\n",
       "      <td>Office</td>\n",
       "      <td>862</td>\n",
       "      <td>2</td>\n",
       "    </tr>\n",
       "    <tr>\n",
       "      <th>2</th>\n",
       "      <td>R&amp;D</td>\n",
       "      <td>1832</td>\n",
       "      <td>3</td>\n",
       "    </tr>\n",
       "    <tr>\n",
       "      <th>3</th>\n",
       "      <td>Others</td>\n",
       "      <td>108</td>\n",
       "      <td>4</td>\n",
       "    </tr>\n",
       "  </tbody>\n",
       "</table>\n",
       "</div>"
      ],
      "text/plain": [
       "   Facility Type  Frequentation Facility Code\n",
       "0  Manufacturing            593             1\n",
       "1         Office            862             2\n",
       "2            R&D           1832             3\n",
       "3         Others            108             4"
      ]
     },
     "execution_count": 19,
     "metadata": {},
     "output_type": "execute_result"
    }
   ],
   "source": [
    "facilities = {'Facility Type': ['Manufacturing', 'Office', 'R&D', 'Others'],\n",
    "        'Frequentation': [593, 862, 1832, 108],\n",
    "        'Facility Code' : ['1','2','3','4']}\n",
    "\n",
    "df_facilities = pd.DataFrame(facilities)\n",
    "\n",
    "df_facilities"
   ]
  },
  {
   "cell_type": "code",
   "execution_count": 8,
   "metadata": {},
   "outputs": [
    {
     "data": {
      "text/plain": [
       "managerVehicle\n",
       "1    2022\n",
       "0    1373\n",
       "Name: count, dtype: int64"
      ]
     },
     "execution_count": 8,
     "metadata": {},
     "output_type": "execute_result"
    }
   ],
   "source": [
    "df.value_counts(\"managerVehicle\")"
   ]
  },
  {
   "cell_type": "code",
   "execution_count": 6,
   "metadata": {},
   "outputs": [
    {
     "data": {
      "text/plain": [
       "weekday\n",
       "Thu    735\n",
       "Wed    713\n",
       "Tue    635\n",
       "Mon    616\n",
       "Fri    610\n",
       "Sat     62\n",
       "Sun     24\n",
       "Name: count, dtype: int64"
      ]
     },
     "execution_count": 6,
     "metadata": {},
     "output_type": "execute_result"
    }
   ],
   "source": [
    "df.value_counts(\"weekday\")"
   ]
  }
 ],
 "metadata": {
  "kernelspec": {
   "display_name": "Python 3",
   "language": "python",
   "name": "python3"
  },
  "language_info": {
   "codemirror_mode": {
    "name": "ipython",
    "version": 3
   },
   "file_extension": ".py",
   "mimetype": "text/x-python",
   "name": "python",
   "nbconvert_exporter": "python",
   "pygments_lexer": "ipython3",
   "version": "3.11.2"
  },
  "orig_nbformat": 4
 },
 "nbformat": 4,
 "nbformat_minor": 2
}
